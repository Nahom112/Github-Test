{
 "cells": [
  {
   "cell_type": "code",
   "execution_count": 7,
   "metadata": {
    "id": "XhSZt6QEx3nF"
   },
   "outputs": [],
   "source": [
    "import os\n",
    "import csv\n",
    "import heapq\n",
    "import re\n",
    "\n",
    "import numpy as np\n",
    "from random import uniform, randrange, sample, shuffle\n",
    "\n",
    "import itertools\n",
    "from tqdm import tqdm\n",
    "from tabulate import tabulate"
   ]
  },
  {
   "cell_type": "code",
   "execution_count": 8,
   "metadata": {
    "id": "epaK8BXkkSBz"
   },
   "outputs": [],
   "source": [
    "N_LINEUPS_TO_SELECT = 20"
   ]
  },
  {
   "cell_type": "code",
   "execution_count": 9,
   "metadata": {
    "id": "iktcc2CNx_a7"
   },
   "outputs": [],
   "source": [
    "projections_file = None\n",
    "lineups_file = None\n",
    "\n",
    "for i in os.listdir():\n",
    "    if i.startswith('NFL_'):\n",
    "        projections_file = i\n",
    "    if i.startswith('lineups'):\n",
    "        lineups_file = i"
   ]
  },
  {
   "cell_type": "code",
   "execution_count": 10,
   "metadata": {
    "id": "Pm8DA2HFyLAi"
   },
   "outputs": [],
   "source": [
    "class Player:\n",
    "    def __init__(self, name, dfs_id, fpts):\n",
    "        self.name = name\n",
    "        self.dfs_id = dfs_id\n",
    "        self.fpts = fpts\n",
    "    \n",
    "    def __repr__(self):\n",
    "        return str(vars(self))"
   ]
  },
  {
   "cell_type": "code",
   "execution_count": 11,
   "metadata": {
    "id": "ZqeE1V57yWrw"
   },
   "outputs": [],
   "source": [
    "projections = {}\n",
    "max_usages = {}\n",
    "\n",
    "if projections_file:\n",
    "    with open(f'{projections_file}') as f:\n",
    "        reader = csv.DictReader(f)\n",
    "\n",
    "        for row in reader:\n",
    "            player_name = row['Name']\n",
    "            player_id = row['DFS ID']\n",
    "            player_fpts = float(row['My Proj'].replace(',', ''))\n",
    "\n",
    "            max_usage = float(row['Max Usage'].replace(',', ''))/100\n",
    "            max_usages[player_id] = max_usage\n",
    "\n",
    "            projections[player_id] = Player(player_name, player_id, player_fpts)"
   ]
  },
  {
   "cell_type": "code",
   "execution_count": 13,
   "metadata": {
    "id": "6wKxpcpry-yQ"
   },
   "outputs": [],
   "source": [
    "# Lineups are stores in a tuple, ([players list], lineup_score)\n",
    "unique_lineups = []\n",
    "\n",
    "if lineups_file:\n",
    "    with open(f'{lineups_file}') as f:\n",
    "        reader = csv.reader(f)\n",
    "        next(reader, None) #Skip the header row\n",
    "\n",
    "        for lineup in reader:\n",
    "            lineup_score = 0\n",
    "\n",
    "            for player in lineup:\n",
    "                player_data = projections[player]\n",
    "                lineup_score += player_data.fpts\n",
    "            \n",
    "            unique_lineups.append((lineup, lineup_score))"
   ]
  },
  {
   "cell_type": "code",
   "execution_count": 14,
   "metadata": {
    "id": "rRXFrC9OkBvW"
   },
   "outputs": [],
   "source": [
    "def get_lineups_list(lineups, max_usage, num_lineups):\n",
    "    return([])"
   ]
  },
  {
   "cell_type": "code",
   "execution_count": 38,
   "metadata": {
    "id": "U2eDQVYI2AAq"
   },
   "outputs": [],
   "source": [
    "selected_lineups = get_lineups_list(unique_lineups, max_usages, N_LINEUPS_TO_SELECT)"
   ]
  },
  {
   "cell_type": "code",
   "execution_count": 39,
   "metadata": {
    "colab": {
     "base_uri": "https://localhost:8080/"
    },
    "id": "9qsa5m1e2Il3",
    "outputId": "68ef0916-d20b-4a5c-90a3-d633ba23519b"
   },
   "outputs": [
    {
     "name": "stdout",
     "output_type": "stream",
     "text": [
      "Name    FPTS    Usage%\n",
      "------  ------  --------\n"
     ]
    }
   ],
   "source": [
    "player_actual_usage = {}\n",
    "\n",
    "for lineup in selected_lineups:\n",
    "    for player in lineup[0]:\n",
    "        if player not in player_actual_usage:\n",
    "            player_actual_usage[player] = 1\n",
    "        else:\n",
    "            player_actual_usage[player] += 1\n",
    "\n",
    "player_actual_usage_table = sorted([[projections[player].name, projections[player].fpts, round(100*(freq/len(selected_lineups)), 2)] for player, freq in player_actual_usage.items()], key=lambda item: item[2], reverse=True)\n",
    "print(tabulate(player_actual_usage_table, headers=[\"Name\", \"FPTS\", \"Usage%\"], floatfmt=\".2f\"))"
   ]
  },
  {
   "cell_type": "code",
   "execution_count": 39,
   "metadata": {
    "id": "FM1UWsud2Wbj"
   },
   "outputs": [],
   "source": []
  }
 ],
 "metadata": {
  "colab": {
   "name": "NFL Efficient Picks Test.ipynb",
   "provenance": []
  },
  "kernelspec": {
   "display_name": "Python 3 (ipykernel)",
   "language": "python",
   "name": "python3"
  },
  "language_info": {
   "codemirror_mode": {
    "name": "ipython",
    "version": 3
   },
   "file_extension": ".py",
   "mimetype": "text/x-python",
   "name": "python",
   "nbconvert_exporter": "python",
   "pygments_lexer": "ipython3",
   "version": "3.9.12"
  }
 },
 "nbformat": 4,
 "nbformat_minor": 1
}
